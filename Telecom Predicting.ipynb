{
 "cells": [
  {
   "cell_type": "markdown",
   "metadata": {},
   "source": [
    "# Telecom     \n",
    "A continuación, se genera el código de solución para proveer un modelo eficiente para la predicción de clientes que podrían llegar a cancelar su suscripción de los servicios de Telecom. \n",
    "\n",
    "Se llevarán a cabo los siguientes pasos:\n",
    "- Unificación de celdas para lograr más precisión en la predicción.\n",
    "- Segmentación de datos en: prueba, validación y entrenamiento.\n",
    "- Comparación de diferentes modelos de clasificación usando métricas AUC, F1, Recall y Precisión para valorar.\n",
    "- Ejercicio de comprobación del modelo y sus métricas con el segmento de prueba. "
   ]
  },
  {
   "cell_type": "code",
   "execution_count": 2,
   "metadata": {},
   "outputs": [],
   "source": [
    "import pandas as pd\n",
    "import numpy as np\n",
    "from sklearn.linear_model import LogisticRegression\n",
    "from sklearn.tree import DecisionTreeClassifier\n",
    "from sklearn.ensemble import RandomForestClassifier\n",
    "from sklearn.metrics import f1_score, recall_score, roc_curve, roc_auc_score, precision_score, classification_report\n",
    "from sklearn.model_selection import RandomizedSearchCV, train_test_split\n",
    "import matplotlib.pyplot as plt\n",
    "from sklearn.dummy import DummyClassifier\n",
    "import seaborn as sns\n",
    "from sklearn.utils import shuffle\n",
    "from lightgbm import LGBMClassifier"
   ]
  },
  {
   "cell_type": "code",
   "execution_count": 3,
   "metadata": {},
   "outputs": [],
   "source": [
    "df_contract = pd.read_csv(r\"C:\\Users\\Sergio\\Desktop\\Tripleten\\Final DS\\final_provider\\contract.csv\")\n",
    "df_internet = pd.read_csv(r\"C:\\Users\\Sergio\\Desktop\\Tripleten\\Final DS\\final_provider\\internet.csv\")\n",
    "df_phone = pd.read_csv(r\"C:\\Users\\Sergio\\Desktop\\Tripleten\\Final DS\\final_provider\\phone.csv\")"
   ]
  },
  {
   "cell_type": "code",
   "execution_count": 4,
   "metadata": {},
   "outputs": [],
   "source": [
    "merge_1 = df_contract.merge(df_phone, on='customerID')"
   ]
  },
  {
   "cell_type": "code",
   "execution_count": 5,
   "metadata": {},
   "outputs": [],
   "source": [
    "df_modificado = merge_1.merge(df_internet, on='customerID')"
   ]
  },
  {
   "cell_type": "code",
   "execution_count": 6,
   "metadata": {},
   "outputs": [
    {
     "data": {
      "text/plain": [
       "Index(['customerID', 'BeginDate', 'EndDate', 'Type', 'PaperlessBilling',\n",
       "       'PaymentMethod', 'MonthlyCharges', 'TotalCharges', 'MultipleLines',\n",
       "       'InternetService', 'OnlineSecurity', 'OnlineBackup', 'DeviceProtection',\n",
       "       'TechSupport', 'StreamingTV', 'StreamingMovies'],\n",
       "      dtype='object')"
      ]
     },
     "execution_count": 6,
     "metadata": {},
     "output_type": "execute_result"
    }
   ],
   "source": [
    "df_modificado.columns"
   ]
  },
  {
   "cell_type": "code",
   "execution_count": 7,
   "metadata": {},
   "outputs": [],
   "source": [
    "df_final = df_modificado.copy()"
   ]
  },
  {
   "cell_type": "code",
   "execution_count": 8,
   "metadata": {},
   "outputs": [
    {
     "name": "stdout",
     "output_type": "stream",
     "text": [
      "<class 'pandas.core.frame.DataFrame'>\n",
      "RangeIndex: 4835 entries, 0 to 4834\n",
      "Data columns (total 16 columns):\n",
      " #   Column            Non-Null Count  Dtype  \n",
      "---  ------            --------------  -----  \n",
      " 0   customerID        4835 non-null   object \n",
      " 1   BeginDate         4835 non-null   object \n",
      " 2   EndDate           4835 non-null   object \n",
      " 3   Type              4835 non-null   object \n",
      " 4   PaperlessBilling  4835 non-null   object \n",
      " 5   PaymentMethod     4835 non-null   object \n",
      " 6   MonthlyCharges    4835 non-null   float64\n",
      " 7   TotalCharges      4835 non-null   object \n",
      " 8   MultipleLines     4835 non-null   object \n",
      " 9   InternetService   4835 non-null   object \n",
      " 10  OnlineSecurity    4835 non-null   object \n",
      " 11  OnlineBackup      4835 non-null   object \n",
      " 12  DeviceProtection  4835 non-null   object \n",
      " 13  TechSupport       4835 non-null   object \n",
      " 14  StreamingTV       4835 non-null   object \n",
      " 15  StreamingMovies   4835 non-null   object \n",
      "dtypes: float64(1), object(15)\n",
      "memory usage: 604.5+ KB\n"
     ]
    }
   ],
   "source": [
    "df_final.info()"
   ]
  },
  {
   "cell_type": "code",
   "execution_count": 9,
   "metadata": {},
   "outputs": [
    {
     "data": {
      "text/html": [
       "<div>\n",
       "<style scoped>\n",
       "    .dataframe tbody tr th:only-of-type {\n",
       "        vertical-align: middle;\n",
       "    }\n",
       "\n",
       "    .dataframe tbody tr th {\n",
       "        vertical-align: top;\n",
       "    }\n",
       "\n",
       "    .dataframe thead th {\n",
       "        text-align: right;\n",
       "    }\n",
       "</style>\n",
       "<table border=\"1\" class=\"dataframe\">\n",
       "  <thead>\n",
       "    <tr style=\"text-align: right;\">\n",
       "      <th></th>\n",
       "      <th>customerID</th>\n",
       "      <th>BeginDate</th>\n",
       "      <th>EndDate</th>\n",
       "      <th>Type</th>\n",
       "      <th>PaperlessBilling</th>\n",
       "      <th>PaymentMethod</th>\n",
       "      <th>MonthlyCharges</th>\n",
       "      <th>TotalCharges</th>\n",
       "      <th>MultipleLines</th>\n",
       "      <th>InternetService</th>\n",
       "      <th>OnlineSecurity</th>\n",
       "      <th>OnlineBackup</th>\n",
       "      <th>DeviceProtection</th>\n",
       "      <th>TechSupport</th>\n",
       "      <th>StreamingTV</th>\n",
       "      <th>StreamingMovies</th>\n",
       "    </tr>\n",
       "  </thead>\n",
       "  <tbody>\n",
       "    <tr>\n",
       "      <th>0</th>\n",
       "      <td>5575-GNVDE</td>\n",
       "      <td>2017-04-01</td>\n",
       "      <td>No</td>\n",
       "      <td>One year</td>\n",
       "      <td>No</td>\n",
       "      <td>Mailed check</td>\n",
       "      <td>56.95</td>\n",
       "      <td>1889.5</td>\n",
       "      <td>No</td>\n",
       "      <td>DSL</td>\n",
       "      <td>Yes</td>\n",
       "      <td>No</td>\n",
       "      <td>Yes</td>\n",
       "      <td>No</td>\n",
       "      <td>No</td>\n",
       "      <td>No</td>\n",
       "    </tr>\n",
       "    <tr>\n",
       "      <th>1</th>\n",
       "      <td>3668-QPYBK</td>\n",
       "      <td>2019-10-01</td>\n",
       "      <td>2019-12-01 00:00:00</td>\n",
       "      <td>Month-to-month</td>\n",
       "      <td>Yes</td>\n",
       "      <td>Mailed check</td>\n",
       "      <td>53.85</td>\n",
       "      <td>108.15</td>\n",
       "      <td>No</td>\n",
       "      <td>DSL</td>\n",
       "      <td>Yes</td>\n",
       "      <td>Yes</td>\n",
       "      <td>No</td>\n",
       "      <td>No</td>\n",
       "      <td>No</td>\n",
       "      <td>No</td>\n",
       "    </tr>\n",
       "    <tr>\n",
       "      <th>2</th>\n",
       "      <td>9237-HQITU</td>\n",
       "      <td>2019-09-01</td>\n",
       "      <td>2019-11-01 00:00:00</td>\n",
       "      <td>Month-to-month</td>\n",
       "      <td>Yes</td>\n",
       "      <td>Electronic check</td>\n",
       "      <td>70.70</td>\n",
       "      <td>151.65</td>\n",
       "      <td>No</td>\n",
       "      <td>Fiber optic</td>\n",
       "      <td>No</td>\n",
       "      <td>No</td>\n",
       "      <td>No</td>\n",
       "      <td>No</td>\n",
       "      <td>No</td>\n",
       "      <td>No</td>\n",
       "    </tr>\n",
       "    <tr>\n",
       "      <th>3</th>\n",
       "      <td>9305-CDSKC</td>\n",
       "      <td>2019-03-01</td>\n",
       "      <td>2019-11-01 00:00:00</td>\n",
       "      <td>Month-to-month</td>\n",
       "      <td>Yes</td>\n",
       "      <td>Electronic check</td>\n",
       "      <td>99.65</td>\n",
       "      <td>820.5</td>\n",
       "      <td>Yes</td>\n",
       "      <td>Fiber optic</td>\n",
       "      <td>No</td>\n",
       "      <td>No</td>\n",
       "      <td>Yes</td>\n",
       "      <td>No</td>\n",
       "      <td>Yes</td>\n",
       "      <td>Yes</td>\n",
       "    </tr>\n",
       "    <tr>\n",
       "      <th>4</th>\n",
       "      <td>1452-KIOVK</td>\n",
       "      <td>2018-04-01</td>\n",
       "      <td>No</td>\n",
       "      <td>Month-to-month</td>\n",
       "      <td>Yes</td>\n",
       "      <td>Credit card (automatic)</td>\n",
       "      <td>89.10</td>\n",
       "      <td>1949.4</td>\n",
       "      <td>Yes</td>\n",
       "      <td>Fiber optic</td>\n",
       "      <td>No</td>\n",
       "      <td>Yes</td>\n",
       "      <td>No</td>\n",
       "      <td>No</td>\n",
       "      <td>Yes</td>\n",
       "      <td>No</td>\n",
       "    </tr>\n",
       "  </tbody>\n",
       "</table>\n",
       "</div>"
      ],
      "text/plain": [
       "   customerID   BeginDate              EndDate            Type  \\\n",
       "0  5575-GNVDE  2017-04-01                   No        One year   \n",
       "1  3668-QPYBK  2019-10-01  2019-12-01 00:00:00  Month-to-month   \n",
       "2  9237-HQITU  2019-09-01  2019-11-01 00:00:00  Month-to-month   \n",
       "3  9305-CDSKC  2019-03-01  2019-11-01 00:00:00  Month-to-month   \n",
       "4  1452-KIOVK  2018-04-01                   No  Month-to-month   \n",
       "\n",
       "  PaperlessBilling            PaymentMethod  MonthlyCharges TotalCharges  \\\n",
       "0               No             Mailed check           56.95       1889.5   \n",
       "1              Yes             Mailed check           53.85       108.15   \n",
       "2              Yes         Electronic check           70.70       151.65   \n",
       "3              Yes         Electronic check           99.65        820.5   \n",
       "4              Yes  Credit card (automatic)           89.10       1949.4   \n",
       "\n",
       "  MultipleLines InternetService OnlineSecurity OnlineBackup DeviceProtection  \\\n",
       "0            No             DSL            Yes           No              Yes   \n",
       "1            No             DSL            Yes          Yes               No   \n",
       "2            No     Fiber optic             No           No               No   \n",
       "3           Yes     Fiber optic             No           No              Yes   \n",
       "4           Yes     Fiber optic             No          Yes               No   \n",
       "\n",
       "  TechSupport StreamingTV StreamingMovies  \n",
       "0          No          No              No  \n",
       "1          No          No              No  \n",
       "2          No          No              No  \n",
       "3          No         Yes             Yes  \n",
       "4          No         Yes              No  "
      ]
     },
     "metadata": {},
     "output_type": "display_data"
    }
   ],
   "source": [
    "display(df_final.head())"
   ]
  },
  {
   "cell_type": "markdown",
   "metadata": {},
   "source": [
    "## Transformación de datos   \n",
    "Se transforman datos object a float por ser numéricos."
   ]
  },
  {
   "cell_type": "code",
   "execution_count": 11,
   "metadata": {},
   "outputs": [],
   "source": [
    "df_final['TotalCharges'] = df_final['TotalCharges'].replace(' ', np.nan)\n",
    "df_final['TotalCharges'] = pd.to_numeric(df_final['TotalCharges'])\n",
    "df_final['TotalCharges'] = df_final['TotalCharges'].fillna(df_final['TotalCharges'].mean())"
   ]
  },
  {
   "cell_type": "markdown",
   "metadata": {},
   "source": [
    "Se transforman datos object a date cuando así se requiere. "
   ]
  },
  {
   "cell_type": "code",
   "execution_count": 13,
   "metadata": {},
   "outputs": [],
   "source": [
    "df_final['BeginDate'] = pd.to_datetime(df_final['BeginDate'])"
   ]
  },
  {
   "cell_type": "markdown",
   "metadata": {},
   "source": [
    "Se usa la columna EndDate para crear una más y definir quién ha cancelado su contrato y quién no. En la columna 'Cancelled', 1 definirá quién sí canceló, y 0 quien no."
   ]
  },
  {
   "cell_type": "code",
   "execution_count": 15,
   "metadata": {},
   "outputs": [],
   "source": [
    "df_final['Cancelled'] = df_final['EndDate'].apply(lambda x: 1 if x != 'No' else 0)"
   ]
  },
  {
   "cell_type": "code",
   "execution_count": 16,
   "metadata": {},
   "outputs": [
    {
     "name": "stdout",
     "output_type": "stream",
     "text": [
      "<class 'pandas.core.frame.DataFrame'>\n",
      "RangeIndex: 4835 entries, 0 to 4834\n",
      "Data columns (total 17 columns):\n",
      " #   Column            Non-Null Count  Dtype         \n",
      "---  ------            --------------  -----         \n",
      " 0   customerID        4835 non-null   object        \n",
      " 1   BeginDate         4835 non-null   datetime64[ns]\n",
      " 2   EndDate           4835 non-null   object        \n",
      " 3   Type              4835 non-null   object        \n",
      " 4   PaperlessBilling  4835 non-null   object        \n",
      " 5   PaymentMethod     4835 non-null   object        \n",
      " 6   MonthlyCharges    4835 non-null   float64       \n",
      " 7   TotalCharges      4835 non-null   float64       \n",
      " 8   MultipleLines     4835 non-null   object        \n",
      " 9   InternetService   4835 non-null   object        \n",
      " 10  OnlineSecurity    4835 non-null   object        \n",
      " 11  OnlineBackup      4835 non-null   object        \n",
      " 12  DeviceProtection  4835 non-null   object        \n",
      " 13  TechSupport       4835 non-null   object        \n",
      " 14  StreamingTV       4835 non-null   object        \n",
      " 15  StreamingMovies   4835 non-null   object        \n",
      " 16  Cancelled         4835 non-null   int64         \n",
      "dtypes: datetime64[ns](1), float64(2), int64(1), object(13)\n",
      "memory usage: 642.3+ KB\n"
     ]
    }
   ],
   "source": [
    "df_final.info()"
   ]
  },
  {
   "cell_type": "markdown",
   "metadata": {},
   "source": [
    "Se ve una reducción de los datos, sin embargo, esto se debe a que, al hacer merge, se conservan aquellos datos que se repiten en los 3 dataframes."
   ]
  },
  {
   "cell_type": "markdown",
   "metadata": {},
   "source": [
    "<div class=\"alert alert-block alert-success\">\n",
    "<b>Comentario del revisor (1ra Iteracion)</b> <a class=“tocSkip”></a>\n",
    "\n",
    "Buen trabajo con el análisis inicial y el procesamiento de tus datos, es clave tener los datos adecuados para poder tener análisis y entrenamientos correctos\n",
    "</div>"
   ]
  },
  {
   "cell_type": "markdown",
   "metadata": {},
   "source": [
    "### Análisis exploratorio de datos"
   ]
  },
  {
   "cell_type": "markdown",
   "metadata": {},
   "source": [
    "**Cancelación de clientes**"
   ]
  },
  {
   "cell_type": "code",
   "execution_count": 21,
   "metadata": {},
   "outputs": [
    {
     "data": {
      "image/png": "[encoded data removed]",
      "text/plain": [
       "<Figure size 640x480 with 1 Axes>"
      ]
     },
     "metadata": {},
     "output_type": "display_data"
    }
   ],
   "source": [
    "cancelaciones = df_final['Cancelled'].value_counts().sort_index()\n",
    "\n",
    "plt.bar(cancelaciones.index, cancelaciones.values)\n",
    "\n",
    "plt.xticks([0, 1], ['No cancelaron', 'Cancelaron'])\n",
    "plt.xlabel('Cancelaciones')\n",
    "plt.ylabel('Conteo')\n",
    "plt.title('Cancelaciones de clientes')\n",
    "plt.show()"
   ]
  },
  {
   "cell_type": "markdown",
   "metadata": {},
   "source": [
    "Hay un desequilibrio de datos ya que la cantidad de clientes que cancelaron supera a la de los que no cancelaron. Se deberá llevar a cabo un sobremuestreo o submuestreo dependiendo de la cantidad de datos disponibles para así tener una predicción en los modelos más adecuada. "
   ]
  },
  {
   "cell_type": "markdown",
   "metadata": {},
   "source": [
    "**Charges**"
   ]
  },
  {
   "cell_type": "code",
   "execution_count": 24,
   "metadata": {},
   "outputs": [
    {
     "name": "stderr",
     "output_type": "stream",
     "text": [
      "C:\\Users\\Sergio\\AppData\\Local\\Temp\\ipykernel_18008\\3165291999.py:4: MatplotlibDeprecationWarning: The 'labels' parameter of boxplot() has been renamed 'tick_labels' since Matplotlib 3.9; support for the old name will be dropped in 3.11.\n",
      "  plt.boxplot([charges_no, charges_sí], labels=['Costo total no cancelaron', 'Costo total sí cancelaron'])\n"
     ]
    },
    {
     "data": {
      "image/png": "[encoded data removed]",
      "text/plain": [
       "<Figure size 640x480 with 1 Axes>"
      ]
     },
     "metadata": {},
     "output_type": "display_data"
    }
   ],
   "source": [
    "charges_no = df_final[df_final['Cancelled'] == 0]['TotalCharges']\n",
    "charges_sí = df_final[df_final['Cancelled'] == 1]['TotalCharges']\n",
    "\n",
    "plt.boxplot([charges_no, charges_sí], labels=['Costo total no cancelaron', 'Costo total sí cancelaron'])\n",
    "plt.xticks(rotation=45)\n",
    "plt.title('Gastos totales de cancelación/no-cancelación')\n",
    "plt.ylabel('Costo total')\n",
    "plt.show()"
   ]
  },
  {
   "cell_type": "markdown",
   "metadata": {},
   "source": [
    "Hay valores atípicos en cuanto a los clientes que sí cancelaron. Estos podrían afectar los futuros análisis, por lo que se procederá a a hacer un análisis más exaustivo al respecto. "
   ]
  },
  {
   "cell_type": "markdown",
   "metadata": {},
   "source": [
    "**Charges / Cancelación**"
   ]
  },
  {
   "cell_type": "markdown",
   "metadata": {},
   "source": [
    "Se procede a eliminar las columnas que no nos brindan información, como customerID, así como se unifican las de los servicios, para poder analizar si hay una relación entre servicios y clientes que han cancelado."
   ]
  },
  {
   "cell_type": "code",
   "execution_count": 28,
   "metadata": {},
   "outputs": [],
   "source": [
    "df_model = df_final.drop(columns=['customerID', 'BeginDate', 'EndDate'])"
   ]
  },
  {
   "cell_type": "code",
   "execution_count": 29,
   "metadata": {},
   "outputs": [],
   "source": [
    "df_model.columns = df_model.columns.str.replace(' ', '_')"
   ]
  },
  {
   "cell_type": "markdown",
   "metadata": {},
   "source": [
    "Ahora se usa getDummies para poder tener valores numéricos y juntar las columnas de servicios en una sola. "
   ]
  },
  {
   "cell_type": "code",
   "execution_count": 31,
   "metadata": {},
   "outputs": [],
   "source": [
    "df_model = pd.get_dummies(df_model, drop_first=True)"
   ]
  },
  {
   "cell_type": "code",
   "execution_count": 32,
   "metadata": {},
   "outputs": [],
   "source": [
    "df_model['servicios_activos'] = df_model[[\n",
    "    'OnlineSecurity_Yes', 'OnlineBackup_Yes', 'DeviceProtection_Yes',\n",
    "    'TechSupport_Yes', 'StreamingTV_Yes', 'StreamingMovies_Yes'\n",
    "]].sum(axis=1)\n",
    "df_model = df_model.drop(columns=['OnlineSecurity_Yes', 'OnlineBackup_Yes', 'DeviceProtection_Yes',\n",
    "    'TechSupport_Yes', 'StreamingTV_Yes', 'StreamingMovies_Yes'])"
   ]
  },
  {
   "cell_type": "code",
   "execution_count": 33,
   "metadata": {},
   "outputs": [
    {
     "data": {
      "text/plain": [
       "Index(['MonthlyCharges', 'TotalCharges', 'Cancelled', 'Type_One year',\n",
       "       'Type_Two year', 'PaperlessBilling_Yes',\n",
       "       'PaymentMethod_Credit card (automatic)',\n",
       "       'PaymentMethod_Electronic check', 'PaymentMethod_Mailed check',\n",
       "       'MultipleLines_Yes', 'InternetService_Fiber optic',\n",
       "       'servicios_activos'],\n",
       "      dtype='object')"
      ]
     },
     "execution_count": 33,
     "metadata": {},
     "output_type": "execute_result"
    }
   ],
   "source": [
    "df_model.columns"
   ]
  },
  {
   "cell_type": "code",
   "execution_count": 34,
   "metadata": {},
   "outputs": [
    {
     "name": "stdout",
     "output_type": "stream",
     "text": [
      "Atípicos\n",
      "False    95.523329\n",
      "True      4.476671\n",
      "Name: count, dtype: float64\n"
     ]
    }
   ],
   "source": [
    "cancelados = df_model[df_model['Cancelled'] == 1].copy()\n",
    "\n",
    "Q1 = cancelados['TotalCharges'].quantile(0.25)\n",
    "Q3 = cancelados['TotalCharges'].quantile(0.75)\n",
    "\n",
    "IQR = Q3 - Q1\n",
    "\n",
    "límite_i = Q1 - 1.5 * IQR\n",
    "límite_s = Q3 + 1.5 * IQR\n",
    "\n",
    "cancelados['Atípicos'] = (\n",
    "    (cancelados['TotalCharges'] < límite_i) | \n",
    "    (cancelados['TotalCharges'] > límite_s)\n",
    ")\n",
    "cantidad_cancelados = cancelados['Atípicos'].value_counts()\n",
    "proporcion_can = cantidad_cancelados / len(cancelados) * 100\n",
    "\n",
    "print(proporcion_can)"
   ]
  },
  {
   "cell_type": "markdown",
   "metadata": {},
   "source": [
    "El 4.4% de clientes que cancelaron son datos atípicos en cuanto a TotalCharges."
   ]
  },
  {
   "cell_type": "code",
   "execution_count": 36,
   "metadata": {},
   "outputs": [
    {
     "data": {
      "image/png": "[encoded data removed]",
      "text/plain": [
       "<Figure size 640x480 with 1 Axes>"
      ]
     },
     "metadata": {},
     "output_type": "display_data"
    }
   ],
   "source": [
    "cancelados_1 = cancelados[cancelados['Atípicos']]\n",
    "\n",
    "sns.countplot(y='servicios_activos', data=cancelados_1)\n",
    "plt.title('Relación de servicios atípicos y servicios activos')\n",
    "plt.xlabel('Clientes atípico')\n",
    "plt.ylabel('Servicios activos')\n",
    "plt.show()"
   ]
  },
  {
   "cell_type": "code",
   "execution_count": 37,
   "metadata": {},
   "outputs": [
    {
     "data": {
      "image/png": "[encoded data removed]",
      "text/plain": [
       "<Figure size 640x480 with 1 Axes>"
      ]
     },
     "metadata": {},
     "output_type": "display_data"
    }
   ],
   "source": [
    "cancelados_gral = df_model[df_model['Cancelled'] == 1]\n",
    "\n",
    "sns.countplot(y='servicios_activos', data=cancelados_gral)\n",
    "plt.title('Relación de servicios atípicos y servicios activos')\n",
    "plt.xlabel('Clientes atípico')\n",
    "plt.ylabel('Servicios activos')\n",
    "plt.show()"
   ]
  },
  {
   "cell_type": "code",
   "execution_count": 38,
   "metadata": {},
   "outputs": [
    {
     "name": "stdout",
     "output_type": "stream",
     "text": [
      "Promedio de servicios de clientes atípicos cancelados: 4.38\n",
      "Promedio de servicios de clientes que cancelaron en general: 1.78\n"
     ]
    }
   ],
   "source": [
    "df_model['Atípicos'] = cancelados['Atípicos'].fillna(False)\n",
    "df_model['Atípicos'] = df_model['Atípicos'].astype(bool)\n",
    "df_model['Atípicos'] = df_model.index.isin(cancelados[cancelados['Atípicos']].index)\n",
    "\n",
    "atípicos_can = df_model[(df_model['Cancelled'] == 1) & (df_model['Atípicos'])]\n",
    "cancel_ser = df_model[(df_model['Cancelled'] == 1) & (~df_model['Atípicos'])]\n",
    "\n",
    "promedio_atípicos = atípicos_can['servicios_activos'].mean()\n",
    "promedio_cancel_ser = cancel_ser['servicios_activos'].mean()\n",
    "\n",
    "print(f\"Promedio de servicios de clientes atípicos cancelados: {promedio_atípicos:.2f}\")\n",
    "print(f\"Promedio de servicios de clientes que cancelaron en general: {promedio_cancel_ser:.2f}\")"
   ]
  },
  {
   "cell_type": "markdown",
   "metadata": {},
   "source": [
    "Los clientes atípicos en cuanto al TotalCharges muestran tendencia a tener más servicios contratados, ya que la mayoría de los que cancelaron sin ser atípicos tienen de como promedio 1.78 servicios, mientras los atípicos tienen 4.38 servicios contratados. Podría estar relacionado el ser atípico con la cantidad de servicios. "
   ]
  },
  {
   "cell_type": "code",
   "execution_count": 40,
   "metadata": {},
   "outputs": [
    {
     "name": "stdout",
     "output_type": "stream",
     "text": [
      "El método de pago por grupo es:\n",
      "          PaymentMethod_Credit card (automatic)  \\\n",
      "Atípicos                                          \n",
      "False                                  0.120132   \n",
      "True                                   0.309859   \n",
      "\n",
      "          PaymentMethod_Electronic check  PaymentMethod_Mailed check  \n",
      "Atípicos                                                              \n",
      "False                           0.612541                    0.133993  \n",
      "True                            0.450704                    0.000000  \n"
     ]
    }
   ],
   "source": [
    "pay_col = [col for col in df_model.columns if col.startswith('PaymentMethod_')]\n",
    "pago_atípico = cancelados.groupby('Atípicos')[pay_col].mean()\n",
    "\n",
    "print('El método de pago por grupo es:')\n",
    "print(pago_atípico)"
   ]
  },
  {
   "cell_type": "code",
   "execution_count": 41,
   "metadata": {},
   "outputs": [
    {
     "data": {
      "image/png": "[encoded data removed]",
      "text/plain": [
       "<Figure size 640x480 with 1 Axes>"
      ]
     },
     "metadata": {},
     "output_type": "display_data"
    }
   ],
   "source": [
    "pago_atípico.T.plot(kind='bar', color=['skyblue', 'salmon'])\n",
    "\n",
    "plt.title('Método de pago por grupo de clientes cancelados (Atípico vs No atípico)')\n",
    "plt.xlabel('Proporción dentro del grupo')\n",
    "plt.ylabel('Método de pago')\n",
    "plt.legend(title='¿Atípico en TotalCharges?')\n",
    "plt.show()"
   ]
  },
  {
   "cell_type": "markdown",
   "metadata": {},
   "source": [
    "Los clientes atípicos tienen sus métodos de pago de dos formas, ambas electrónicas: pago automático de tarjeta de crédito, y por chece electrónico. No usan formas tradicionales. "
   ]
  },
  {
   "cell_type": "markdown",
   "metadata": {},
   "source": [
    "**Servicios**    \n",
    "Ahora se analizan los servicios contratados en la clientela. "
   ]
  },
  {
   "cell_type": "code",
   "execution_count": 44,
   "metadata": {},
   "outputs": [
    {
     "data": {
      "image/png": "[encoded data removed]",
      "text/plain": [
       "<Figure size 640x480 with 1 Axes>"
      ]
     },
     "metadata": {},
     "output_type": "display_data"
    }
   ],
   "source": [
    "sns.histplot(df_model['servicios_activos'], bins=6)\n",
    "\n",
    "plt.title('Servicios activos')\n",
    "plt.xlabel('Cantidad de servicios')\n",
    "plt.ylabel('Cantidad de clientes')\n",
    "plt.show()"
   ]
  },
  {
   "cell_type": "code",
   "execution_count": 45,
   "metadata": {},
   "outputs": [
    {
     "data": {
      "text/plain": [
       "Cancelled\n",
       "0    3249\n",
       "1    1586\n",
       "Name: count, dtype: int64"
      ]
     },
     "execution_count": 45,
     "metadata": {},
     "output_type": "execute_result"
    }
   ],
   "source": [
    "df_model['Cancelled'].value_counts()"
   ]
  },
  {
   "cell_type": "markdown",
   "metadata": {},
   "source": [
    "Los clientes tienden a tener, en su mayoría, de 1 a 4 servicios, por lo que los clientes atípicos, no parecen salirse de la generalidad. Siguel el mismo patrón. "
   ]
  },
  {
   "cell_type": "code",
   "execution_count": 47,
   "metadata": {},
   "outputs": [
    {
     "data": {
      "image/png": "[encoded data removed]",
      "text/plain": [
       "<Figure size 640x480 with 1 Axes>"
      ]
     },
     "metadata": {},
     "output_type": "display_data"
    }
   ],
   "source": [
    "cancelados = df_model[df_model['Cancelled'] == 1]['servicios_activos']\n",
    "no_cancelados = df_model[df_model['Cancelled'] == 0]['servicios_activos']\n",
    "atipicos = df_model[df_model['Atípicos']]['servicios_activos']\n",
    "\n",
    "plt.hist(no_cancelados, bins=7, alpha=0.7, label='No canceló', color='skyblue')\n",
    "plt.hist(cancelados, bins=7, alpha=0.5, label='Sí canceló', color='red')\n",
    "plt.hist(atipicos, bins=7, alpha=0.5, label='Atípicos', color='black')\n",
    "\n",
    "plt.title('Distribución de servicios activos')\n",
    "plt.xlabel('Servicios activos')\n",
    "plt.ylabel('Proporción')\n",
    "plt.legend()\n",
    "plt.show()"
   ]
  },
  {
   "cell_type": "markdown",
   "metadata": {},
   "source": [
    "Los clienes que cancelaron muestran una tendencia mayor a tener más servicios contratados que los que no cancelaron. Sin embargo, la proporción de servicios activos de los atípicos es mayor que los cancelados normales. Así que se dejarán dentro del análisis los atípicos, pues brindan información valiosa. "
   ]
  },
  {
   "cell_type": "code",
   "execution_count": 49,
   "metadata": {},
   "outputs": [
    {
     "data": {
      "text/html": [
       "<div>\n",
       "<style scoped>\n",
       "    .dataframe tbody tr th:only-of-type {\n",
       "        vertical-align: middle;\n",
       "    }\n",
       "\n",
       "    .dataframe tbody tr th {\n",
       "        vertical-align: top;\n",
       "    }\n",
       "\n",
       "    .dataframe thead th {\n",
       "        text-align: right;\n",
       "    }\n",
       "</style>\n",
       "<table border=\"1\" class=\"dataframe\">\n",
       "  <thead>\n",
       "    <tr style=\"text-align: right;\">\n",
       "      <th></th>\n",
       "      <th>MonthlyCharges</th>\n",
       "      <th>TotalCharges</th>\n",
       "      <th>Cancelled</th>\n",
       "      <th>Type_One year</th>\n",
       "      <th>Type_Two year</th>\n",
       "      <th>PaperlessBilling_Yes</th>\n",
       "      <th>PaymentMethod_Credit card (automatic)</th>\n",
       "      <th>PaymentMethod_Electronic check</th>\n",
       "      <th>PaymentMethod_Mailed check</th>\n",
       "      <th>MultipleLines_Yes</th>\n",
       "      <th>InternetService_Fiber optic</th>\n",
       "      <th>servicios_activos</th>\n",
       "    </tr>\n",
       "  </thead>\n",
       "  <tbody>\n",
       "    <tr>\n",
       "      <th>0</th>\n",
       "      <td>56.95</td>\n",
       "      <td>1889.50</td>\n",
       "      <td>0</td>\n",
       "      <td>True</td>\n",
       "      <td>False</td>\n",
       "      <td>False</td>\n",
       "      <td>False</td>\n",
       "      <td>False</td>\n",
       "      <td>True</td>\n",
       "      <td>False</td>\n",
       "      <td>False</td>\n",
       "      <td>2</td>\n",
       "    </tr>\n",
       "    <tr>\n",
       "      <th>1</th>\n",
       "      <td>53.85</td>\n",
       "      <td>108.15</td>\n",
       "      <td>1</td>\n",
       "      <td>False</td>\n",
       "      <td>False</td>\n",
       "      <td>True</td>\n",
       "      <td>False</td>\n",
       "      <td>False</td>\n",
       "      <td>True</td>\n",
       "      <td>False</td>\n",
       "      <td>False</td>\n",
       "      <td>2</td>\n",
       "    </tr>\n",
       "    <tr>\n",
       "      <th>2</th>\n",
       "      <td>70.70</td>\n",
       "      <td>151.65</td>\n",
       "      <td>1</td>\n",
       "      <td>False</td>\n",
       "      <td>False</td>\n",
       "      <td>True</td>\n",
       "      <td>False</td>\n",
       "      <td>True</td>\n",
       "      <td>False</td>\n",
       "      <td>False</td>\n",
       "      <td>True</td>\n",
       "      <td>0</td>\n",
       "    </tr>\n",
       "    <tr>\n",
       "      <th>3</th>\n",
       "      <td>99.65</td>\n",
       "      <td>820.50</td>\n",
       "      <td>1</td>\n",
       "      <td>False</td>\n",
       "      <td>False</td>\n",
       "      <td>True</td>\n",
       "      <td>False</td>\n",
       "      <td>True</td>\n",
       "      <td>False</td>\n",
       "      <td>True</td>\n",
       "      <td>True</td>\n",
       "      <td>3</td>\n",
       "    </tr>\n",
       "    <tr>\n",
       "      <th>4</th>\n",
       "      <td>89.10</td>\n",
       "      <td>1949.40</td>\n",
       "      <td>0</td>\n",
       "      <td>False</td>\n",
       "      <td>False</td>\n",
       "      <td>True</td>\n",
       "      <td>True</td>\n",
       "      <td>False</td>\n",
       "      <td>False</td>\n",
       "      <td>True</td>\n",
       "      <td>True</td>\n",
       "      <td>2</td>\n",
       "    </tr>\n",
       "    <tr>\n",
       "      <th>...</th>\n",
       "      <td>...</td>\n",
       "      <td>...</td>\n",
       "      <td>...</td>\n",
       "      <td>...</td>\n",
       "      <td>...</td>\n",
       "      <td>...</td>\n",
       "      <td>...</td>\n",
       "      <td>...</td>\n",
       "      <td>...</td>\n",
       "      <td>...</td>\n",
       "      <td>...</td>\n",
       "      <td>...</td>\n",
       "    </tr>\n",
       "    <tr>\n",
       "      <th>4830</th>\n",
       "      <td>78.70</td>\n",
       "      <td>1495.10</td>\n",
       "      <td>0</td>\n",
       "      <td>False</td>\n",
       "      <td>False</td>\n",
       "      <td>True</td>\n",
       "      <td>False</td>\n",
       "      <td>False</td>\n",
       "      <td>False</td>\n",
       "      <td>False</td>\n",
       "      <td>True</td>\n",
       "      <td>1</td>\n",
       "    </tr>\n",
       "    <tr>\n",
       "      <th>4831</th>\n",
       "      <td>84.80</td>\n",
       "      <td>1990.50</td>\n",
       "      <td>0</td>\n",
       "      <td>True</td>\n",
       "      <td>False</td>\n",
       "      <td>True</td>\n",
       "      <td>False</td>\n",
       "      <td>False</td>\n",
       "      <td>True</td>\n",
       "      <td>True</td>\n",
       "      <td>False</td>\n",
       "      <td>5</td>\n",
       "    </tr>\n",
       "    <tr>\n",
       "      <th>4832</th>\n",
       "      <td>103.20</td>\n",
       "      <td>7362.90</td>\n",
       "      <td>0</td>\n",
       "      <td>True</td>\n",
       "      <td>False</td>\n",
       "      <td>True</td>\n",
       "      <td>True</td>\n",
       "      <td>False</td>\n",
       "      <td>False</td>\n",
       "      <td>True</td>\n",
       "      <td>True</td>\n",
       "      <td>4</td>\n",
       "    </tr>\n",
       "    <tr>\n",
       "      <th>4833</th>\n",
       "      <td>74.40</td>\n",
       "      <td>306.60</td>\n",
       "      <td>1</td>\n",
       "      <td>False</td>\n",
       "      <td>False</td>\n",
       "      <td>True</td>\n",
       "      <td>False</td>\n",
       "      <td>False</td>\n",
       "      <td>True</td>\n",
       "      <td>True</td>\n",
       "      <td>True</td>\n",
       "      <td>0</td>\n",
       "    </tr>\n",
       "    <tr>\n",
       "      <th>4834</th>\n",
       "      <td>105.65</td>\n",
       "      <td>6844.50</td>\n",
       "      <td>0</td>\n",
       "      <td>False</td>\n",
       "      <td>True</td>\n",
       "      <td>True</td>\n",
       "      <td>False</td>\n",
       "      <td>False</td>\n",
       "      <td>False</td>\n",
       "      <td>False</td>\n",
       "      <td>True</td>\n",
       "      <td>5</td>\n",
       "    </tr>\n",
       "  </tbody>\n",
       "</table>\n",
       "<p>4835 rows × 12 columns</p>\n",
       "</div>"
      ],
      "text/plain": [
       "      MonthlyCharges  TotalCharges  Cancelled  Type_One year  Type_Two year  \\\n",
       "0              56.95       1889.50          0           True          False   \n",
       "1              53.85        108.15          1          False          False   \n",
       "2              70.70        151.65          1          False          False   \n",
       "3              99.65        820.50          1          False          False   \n",
       "4              89.10       1949.40          0          False          False   \n",
       "...              ...           ...        ...            ...            ...   \n",
       "4830           78.70       1495.10          0          False          False   \n",
       "4831           84.80       1990.50          0           True          False   \n",
       "4832          103.20       7362.90          0           True          False   \n",
       "4833           74.40        306.60          1          False          False   \n",
       "4834          105.65       6844.50          0          False           True   \n",
       "\n",
       "      PaperlessBilling_Yes  PaymentMethod_Credit card (automatic)  \\\n",
       "0                    False                                  False   \n",
       "1                     True                                  False   \n",
       "2                     True                                  False   \n",
       "3                     True                                  False   \n",
       "4                     True                                   True   \n",
       "...                    ...                                    ...   \n",
       "4830                  True                                  False   \n",
       "4831                  True                                  False   \n",
       "4832                  True                                   True   \n",
       "4833                  True                                  False   \n",
       "4834                  True                                  False   \n",
       "\n",
       "      PaymentMethod_Electronic check  PaymentMethod_Mailed check  \\\n",
       "0                              False                        True   \n",
       "1                              False                        True   \n",
       "2                               True                       False   \n",
       "3                               True                       False   \n",
       "4                              False                       False   \n",
       "...                              ...                         ...   \n",
       "4830                           False                       False   \n",
       "4831                           False                        True   \n",
       "4832                           False                       False   \n",
       "4833                           False                        True   \n",
       "4834                           False                       False   \n",
       "\n",
       "      MultipleLines_Yes  InternetService_Fiber optic  servicios_activos  \n",
       "0                 False                        False                  2  \n",
       "1                 False                        False                  2  \n",
       "2                 False                         True                  0  \n",
       "3                  True                         True                  3  \n",
       "4                  True                         True                  2  \n",
       "...                 ...                          ...                ...  \n",
       "4830              False                         True                  1  \n",
       "4831               True                        False                  5  \n",
       "4832               True                         True                  4  \n",
       "4833               True                         True                  0  \n",
       "4834              False                         True                  5  \n",
       "\n",
       "[4835 rows x 12 columns]"
      ]
     },
     "execution_count": 49,
     "metadata": {},
     "output_type": "execute_result"
    }
   ],
   "source": [
    "df_model.drop(['Atípicos'], axis=1)"
   ]
  },
  {
   "cell_type": "markdown",
   "metadata": {},
   "source": [
    "<div class=\"alert alert-block alert-danger\">\n",
    "<b>Comentario del revisor (1ra Iteracion)</b> <a class=“tocSkip”></a>\n",
    "\n",
    "Antes de pasar a la parte del entrenamiento deberías tener aquí la parte del EDA donde revises las variables a utilizar mediante gráficas \n",
    "</div>"
   ]
  },
  {
   "cell_type": "markdown",
   "metadata": {},
   "source": [
    "<div class=\"alert alert-block alert-success\">\n",
    "<b>Comentario del revisor (2da Iteracion)</b> <a class=“tocSkip”></a>\n",
    "\n",
    "Correcto, de esta forma el EDA deja mucho más claro con que datos se trabajará y es más fácil poder ver cómo estos podrían afectar a los modelos\n",
    "</div>"
   ]
  },
  {
   "cell_type": "markdown",
   "metadata": {},
   "source": [
    "### Segmentación    \n",
    "Se segmenta en conjuntos de entrenamiento y validación:    \n",
    "Prueba: 20%     \n",
    "Validación: 20%     \n",
    "Entrenamiento: 60%"
   ]
  },
  {
   "cell_type": "markdown",
   "metadata": {},
   "source": [
    "Se genera segmento de prueba."
   ]
  },
  {
   "cell_type": "code",
   "execution_count": 54,
   "metadata": {},
   "outputs": [],
   "source": [
    "x = df_model.drop(columns=['Cancelled'])\n",
    "y = df_model['Cancelled']"
   ]
  },
  {
   "cell_type": "code",
   "execution_count": 55,
   "metadata": {},
   "outputs": [
    {
     "name": "stdout",
     "output_type": "stream",
     "text": [
      "Entrenamiento: (2901, 12), Validación: (967, 12), Prueba: (967, 12)\n"
     ]
    }
   ],
   "source": [
    "x_temp, x_test, y_temp, y_test = train_test_split(x, y, test_size=0.2, random_state=42)\n",
    "\n",
    "x_ent, x_val, y_ent, y_val = train_test_split(x_temp, y_temp, test_size=0.25, random_state=42)\n",
    "\n",
    "print(f\"Entrenamiento: {x_ent.shape}, Validación: {x_val.shape}, Prueba: {x_test.shape}\")"
   ]
  },
  {
   "cell_type": "markdown",
   "metadata": {},
   "source": [
    "<div class=\"alert alert-block alert-success\">\n",
    "<b>Comentario del revisor (1ra Iteracion)</b> <a class=“tocSkip”></a>\n",
    "\n",
    "Muy bien, segmentaste los datos de manera adecuada para validar los entrenamientos\n",
    "</div>"
   ]
  },
  {
   "cell_type": "markdown",
   "metadata": {},
   "source": [
    "### Función de entrenamiento    \n",
    "Se crea una función de entrenamiento para los distintos modelos. Una se usará con sobremuestreo de datos, y la otra sin sobremuestreo, usando classification_report. "
   ]
  },
  {
   "cell_type": "code",
   "execution_count": 58,
   "metadata": {},
   "outputs": [],
   "source": [
    "def entrenamiento_modelo_sobremuestreo(modelo, x_train, y_train, x_val, y_val):\n",
    "    modelo.fit(x_train, y_train)\n",
    "    modelo_pred = modelo.predict(x_val)\n",
    "\n",
    "    f1 = f1_score(y_val, modelo_pred)\n",
    "    recall = recall_score(y_val, modelo_pred)\n",
    "    precisión = precision_score(y_val, modelo_pred)\n",
    "\n",
    "    if hasattr(modelo, 'predict_proba'):\n",
    "        score = modelo.predict_proba(x_val)[:, 1]\n",
    "        auc = roc_auc_score(y_val, score)\n",
    "    else:\n",
    "        auc = 'No disponible'\n",
    "\n",
    "    print(f\"Modelo: {modelo.__class__.__name__}\")\n",
    "    print(f\"AUC: {auc}\")\n",
    "    print(f\"Precisión: {precisión}\")\n",
    "    print(f\"Recall: {recall}\")\n",
    "    print(f\"F1: {f1}\")"
   ]
  },
  {
   "cell_type": "code",
   "execution_count": 59,
   "metadata": {},
   "outputs": [],
   "source": [
    "def entrenamiento_classification(modelo, x_train, y_train, x_val, y_val):\n",
    "    modelo.fit(x_train, y_train)\n",
    "    modelo_pred = modelo.predict(x_val)\n",
    "\n",
    "    if hasattr(modelo, 'predict_proba'):\n",
    "        score = modelo.predict_proba(x_val)[:, 1]\n",
    "        auc = roc_auc_score(y_val, score)\n",
    "    else:\n",
    "        auc = 'No disponible'\n",
    "\n",
    "    print(f\"\\nModelo: {modelo.__class__.__name__}\")\n",
    "    print(f\"AUC: {auc}\")\n",
    "    print(\"\\nClassification report:\")\n",
    "    print(classification_report(y_val, modelo_pred))"
   ]
  },
  {
   "cell_type": "markdown",
   "metadata": {},
   "source": [
    "### Creación de prueba de cordura\n",
    "\n",
    "Se usa DummyClassifier para la prueba de cordura"
   ]
  },
  {
   "cell_type": "code",
   "execution_count": 61,
   "metadata": {},
   "outputs": [
    {
     "name": "stdout",
     "output_type": "stream",
     "text": [
      "F1 de prueba de cordura: 0.2969004893964111\n",
      "Recall de prueba de cordura: 0.2879746835443038\n",
      "Precisión de prueba de cordura: 0.3063973063973064\n"
     ]
    }
   ],
   "source": [
    "cordura = DummyClassifier(strategy='stratified', random_state=42)\n",
    "cordura.fit(x_ent, y_ent)\n",
    "\n",
    "pred_dummy= cordura.predict(x_val)\n",
    "\n",
    "cordura_f1 = f1_score(y_val, pred_dummy)\n",
    "recall_cordura = recall_score(y_val, pred_dummy)\n",
    "precisión_dummy = precision_score(y_val, pred_dummy)\n",
    "\n",
    "print(f\"F1 de prueba de cordura: {cordura_f1}\")\n",
    "print(f\"Recall de prueba de cordura: {recall_cordura}\")\n",
    "print(f\"Precisión de prueba de cordura: {precisión_dummy}\")"
   ]
  },
  {
   "cell_type": "markdown",
   "metadata": {},
   "source": [
    "El modelo de la prueba de cordura al usar el azar, nos da una proporción del 28% de los casos reales positivos detectados, mientras que por el F1 nos damos cuenta de que detecta demasiados casos de falso positivo. Para finalizar, de los predichos, sólo el 29% eran positivos reales.     \n",
    "\n",
    "Estas métricas nos ayudarán a definir la base sobre la cual se analizarán los otros modelos. "
   ]
  },
  {
   "cell_type": "markdown",
   "metadata": {},
   "source": [
    "### Balance de datos"
   ]
  },
  {
   "cell_type": "code",
   "execution_count": 64,
   "metadata": {},
   "outputs": [
    {
     "name": "stdout",
     "output_type": "stream",
     "text": [
      "Cancelled\n",
      "0    1957\n",
      "1     944\n",
      "Name: count, dtype: int64\n"
     ]
    }
   ],
   "source": [
    "print(y_ent.value_counts())"
   ]
  },
  {
   "cell_type": "markdown",
   "metadata": {},
   "source": [
    "Hay un leve desbalanceo en los datos, por lo que se procederá con un sobremuestreo para no perder datos ya que no son muy numerosos. "
   ]
  },
  {
   "cell_type": "markdown",
   "metadata": {},
   "source": [
    "<div class=\"alert alert-block alert-success\">\n",
    "<b>Comentario del revisor (1ra Iteracion)</b> <a class=“tocSkip”></a>\n",
    "\n",
    "Correcto, siempre en problemas de clasificación antes de pasar a los entrenamientos se debe revisar el balance de clases para escoger la estrategia que mejor se adapte al caso\n",
    "</div>"
   ]
  },
  {
   "cell_type": "markdown",
   "metadata": {},
   "source": [
    "### Sobremuestreo de datos    \n",
    "Se usarán dos técnicas de sobremuestreo: bucle y smote, y se compararán los resultados de ambos para tener una mejor exactitud del cálculo."
   ]
  },
  {
   "cell_type": "code",
   "execution_count": 68,
   "metadata": {},
   "outputs": [],
   "source": [
    "def upsample (features, target, repeat):\n",
    "    features_zeros = features[target == 0]\n",
    "    features_ones = features[target == 1]\n",
    "    target_zeros = target[target == 0]\n",
    "    target_ones = target[target == 1]\n",
    "\n",
    "    x_ent_bucle = pd.concat([features_zeros] + [features_ones] * repeat)\n",
    "    y_ent_bucle = pd.concat([target_zeros] + [target_ones] * repeat)\n",
    "\n",
    "    x_ent_bucle, y_ent_bucle = shuffle(x_ent_bucle, y_ent_bucle, random_state=42)\n",
    "\n",
    "    return x_ent_bucle, y_ent_bucle"
   ]
  },
  {
   "cell_type": "code",
   "execution_count": 69,
   "metadata": {},
   "outputs": [],
   "source": [
    "x_ent_bucle, y_ent_bucle = upsample(x_ent, y_ent, 2)"
   ]
  },
  {
   "cell_type": "code",
   "execution_count": 70,
   "metadata": {},
   "outputs": [
    {
     "name": "stdout",
     "output_type": "stream",
     "text": [
      "(3845, 12)\n",
      "(3845,)\n"
     ]
    }
   ],
   "source": [
    "print(x_ent_bucle.shape)\n",
    "print(y_ent_bucle.shape)"
   ]
  },
  {
   "cell_type": "markdown",
   "metadata": {},
   "source": [
    "### Entrenamiento de modelos   \n",
    "Se procede al entrenamiento de los modelos con los dos conjuntos de sobremuestreo para elegir el ideal."
   ]
  },
  {
   "cell_type": "code",
   "execution_count": 72,
   "metadata": {},
   "outputs": [
    {
     "name": "stdout",
     "output_type": "stream",
     "text": [
      "Modelo: LogisticRegression\n",
      "AUC: 0.8286132337786073\n",
      "Precisión: 0.5783410138248848\n",
      "Recall: 0.7943037974683544\n",
      "F1: 0.6693333333333333\n"
     ]
    }
   ],
   "source": [
    "Logistic = LogisticRegression(solver='liblinear')\n",
    "\n",
    "entrenamiento_modelo_sobremuestreo(Logistic, x_ent_bucle, y_ent_bucle, x_val, y_val)"
   ]
  },
  {
   "cell_type": "code",
   "execution_count": 73,
   "metadata": {},
   "outputs": [
    {
     "name": "stdout",
     "output_type": "stream",
     "text": [
      "\n",
      "Modelo: LogisticRegression\n",
      "AUC: 0.8061939761613097\n",
      "\n",
      "Classification report:\n",
      "              precision    recall  f1-score   support\n",
      "\n",
      "           0       0.80      0.85      0.82       651\n",
      "           1       0.64      0.56      0.60       316\n",
      "\n",
      "    accuracy                           0.75       967\n",
      "   macro avg       0.72      0.70      0.71       967\n",
      "weighted avg       0.75      0.75      0.75       967\n",
      "\n"
     ]
    }
   ],
   "source": [
    "logistic_class = LogisticRegression(solver='liblinear')\n",
    "\n",
    "entrenamiento_classification(logistic_class, x_ent, y_ent, x_val, y_val)"
   ]
  },
  {
   "cell_type": "markdown",
   "metadata": {},
   "source": [
    "En caso de logistic_regression, el set sin balanceo de clases da mejor rendimiento. Tiene un F1 de predicción del 75% de los casos correctamente, mientra que el balanceo da un 65%, "
   ]
  },
  {
   "cell_type": "markdown",
   "metadata": {},
   "source": [
    "**DecisionTreeClassifier**    \n",
    "Primero se encuenran los parámetros ideales."
   ]
  },
  {
   "cell_type": "code",
   "execution_count": 76,
   "metadata": {},
   "outputs": [
    {
     "name": "stdout",
     "output_type": "stream",
     "text": [
      "Mejores hiperparámetros para bucle {'min_samples_split': 5, 'min_samples_leaf': 1, 'max_leaf_nodes': 100, 'max_depth': None}\n"
     ]
    }
   ],
   "source": [
    "tree_bucle = DecisionTreeClassifier(random_state=42)\n",
    "\n",
    "hiperparámetros = {\n",
    "    'max_depth' : [5, 10, 15, 20, None],\n",
    "    'min_samples_split' : [2, 5, 10, 20],\n",
    "    'min_samples_leaf' : [1, 2, 5, 10],\n",
    "    'max_leaf_nodes' : [None, 10, 20, 30, 50, 100]\n",
    "}\n",
    "\n",
    "params_tree = RandomizedSearchCV(\n",
    "    estimator=tree_bucle,\n",
    "    param_distributions=hiperparámetros,\n",
    "    n_iter=50, \n",
    "    cv=5,\n",
    "    random_state=42, \n",
    "    n_jobs=-1\n",
    ")\n",
    "\n",
    "params_tree.fit(x_ent_bucle, y_ent_bucle)\n",
    "\n",
    "print('Mejores hiperparámetros para bucle', params_tree.best_params_)"
   ]
  },
  {
   "cell_type": "code",
   "execution_count": 77,
   "metadata": {},
   "outputs": [
    {
     "name": "stdout",
     "output_type": "stream",
     "text": [
      "Mejores hiperparámetros para bucle {'min_samples_split': 10, 'min_samples_leaf': 10, 'max_leaf_nodes': 10, 'max_depth': None}\n"
     ]
    }
   ],
   "source": [
    "tree_class = DecisionTreeClassifier(random_state=42)\n",
    "\n",
    "hiperparámetros = {\n",
    "    'max_depth' : [5, 10, 15, 20, None],\n",
    "    'min_samples_split' : [2, 5, 10, 20],\n",
    "    'min_samples_leaf' : [1, 2, 5, 10],\n",
    "    'max_leaf_nodes' : [None, 10, 20, 30, 50, 100]\n",
    "}\n",
    "\n",
    "params_tree_class = RandomizedSearchCV(\n",
    "    estimator=tree_class,\n",
    "    param_distributions=hiperparámetros,\n",
    "    n_iter=50, \n",
    "    cv=5,\n",
    "    random_state=42, \n",
    "    n_jobs=-1\n",
    ")\n",
    "\n",
    "params_tree_class.fit(x_ent, y_ent)\n",
    "\n",
    "print('Mejores hiperparámetros para bucle', params_tree_class.best_params_)"
   ]
  },
  {
   "cell_type": "code",
   "execution_count": 78,
   "metadata": {},
   "outputs": [
    {
     "name": "stdout",
     "output_type": "stream",
     "text": [
      "Modelo: DecisionTreeClassifier\n",
      "AUC: 0.7633922495090318\n",
      "Precisión: 0.5563218390804597\n",
      "Recall: 0.7658227848101266\n",
      "F1: 0.644474034620506\n"
     ]
    }
   ],
   "source": [
    "Tree_bucle = DecisionTreeClassifier(random_state=42, min_samples_split=5,\n",
    "                                        min_samples_leaf=1,\n",
    "                                        max_leaf_nodes=100,\n",
    "                                       max_depth=None)\n",
    "\n",
    "entrenamiento_modelo_sobremuestreo(Tree_bucle, x_ent_bucle, y_ent_bucle, x_val, y_val)"
   ]
  },
  {
   "cell_type": "code",
   "execution_count": 79,
   "metadata": {},
   "outputs": [
    {
     "name": "stdout",
     "output_type": "stream",
     "text": [
      "\n",
      "Modelo: DecisionTreeClassifier\n",
      "AUC: 0.8193431721402322\n",
      "\n",
      "Classification report:\n",
      "              precision    recall  f1-score   support\n",
      "\n",
      "           0       0.79      0.89      0.84       651\n",
      "           1       0.70      0.51      0.59       316\n",
      "\n",
      "    accuracy                           0.77       967\n",
      "   macro avg       0.74      0.70      0.71       967\n",
      "weighted avg       0.76      0.77      0.76       967\n",
      "\n"
     ]
    }
   ],
   "source": [
    "Tree_class = DecisionTreeClassifier(random_state=42, min_samples_split=5,\n",
    "                                        min_samples_leaf=5,\n",
    "                                        max_leaf_nodes=50,\n",
    "                                       max_depth=5)\n",
    "\n",
    "entrenamiento_classification(Tree_class, x_ent, y_ent, x_val, y_val)"
   ]
  },
  {
   "cell_type": "markdown",
   "metadata": {},
   "source": [
    "La métrica F1 de DecisionTreeClassifier es apenas ligeramente mejor que LogisticRegression. El resultaod en este caso del modelo sin sobremuestreo es del 76%, contra el 64 del modelo con sobremuestreo, que es del 64%."
   ]
  },
  {
   "cell_type": "markdown",
   "metadata": {},
   "source": [
    "**RandomForestClassifier**"
   ]
  },
  {
   "cell_type": "code",
   "execution_count": 82,
   "metadata": {},
   "outputs": [
    {
     "name": "stdout",
     "output_type": "stream",
     "text": [
      "Fitting 5 folds for each of 50 candidates, totalling 250 fits\n",
      "Mejores parámetros para bucle: {'n_estimators': 200, 'min_samples_split': 2, 'min_samples_leaf': 1, 'max_features': 'sqrt', 'max_depth': 50}\n"
     ]
    }
   ],
   "source": [
    "forest = RandomForestClassifier(random_state=42)\n",
    "\n",
    "hiperparámetros_f = {\n",
    "    'n_estimators' : [100, 200, 300, 400, 500],\n",
    "    'max_depth' : [None, 10, 20, 30, 50],\n",
    "    'min_samples_split' : [2, 5, 10],\n",
    "    'min_samples_leaf' : [1, 2, 4],\n",
    "    'max_features' : ['sqrt', 'log2', None]}\n",
    "\n",
    "params_forest = RandomizedSearchCV(\n",
    "    estimator=forest,\n",
    "    param_distributions=hiperparámetros_f,\n",
    "    n_iter=50, \n",
    "    cv=5, \n",
    "    random_state=42, \n",
    "    n_jobs=-1,\n",
    "    verbose=1)\n",
    "\n",
    "params_forest.fit(x_ent_bucle, y_ent_bucle)\n",
    "\n",
    "print('Mejores parámetros para bucle:', params_forest.best_params_)"
   ]
  },
  {
   "cell_type": "code",
   "execution_count": 83,
   "metadata": {},
   "outputs": [
    {
     "name": "stdout",
     "output_type": "stream",
     "text": [
      "Fitting 5 folds for each of 50 candidates, totalling 250 fits\n",
      "Mejores parámetros para classification: {'n_estimators': 100, 'min_samples_split': 10, 'min_samples_leaf': 4, 'max_features': 'log2', 'max_depth': 10}\n"
     ]
    }
   ],
   "source": [
    "forest_class = RandomForestClassifier(random_state=42)\n",
    "\n",
    "hiperparámetros_f = {\n",
    "    'n_estimators' : [100, 200, 300, 400, 500],\n",
    "    'max_depth' : [None, 10, 20, 30, 50],\n",
    "    'min_samples_split' : [2, 5, 10],\n",
    "    'min_samples_leaf' : [1, 2, 4],\n",
    "    'max_features' : ['sqrt', 'log2', None]}\n",
    "\n",
    "params_forest_class = RandomizedSearchCV(\n",
    "    estimator=forest_class,\n",
    "    param_distributions=hiperparámetros_f,\n",
    "    n_iter=50, \n",
    "    cv=5, \n",
    "    random_state=42, \n",
    "    n_jobs=-1,\n",
    "    verbose=1)\n",
    "\n",
    "params_forest_class.fit(x_ent, y_ent)\n",
    "\n",
    "print('Mejores parámetros para classification:', params_forest_class.best_params_)"
   ]
  },
  {
   "cell_type": "code",
   "execution_count": 84,
   "metadata": {},
   "outputs": [
    {
     "name": "stdout",
     "output_type": "stream",
     "text": [
      "Modelo: RandomForestClassifier\n",
      "AUC: 0.8006426335336094\n",
      "Precisión: 0.5790960451977402\n",
      "Recall: 0.6487341772151899\n",
      "F1: 0.6119402985074627\n"
     ]
    }
   ],
   "source": [
    "forest_bucle = RandomForestClassifier(random_state=42,\n",
    "                                      n_estimators=200,\n",
    "                                      min_samples_split=2,\n",
    "                                      min_samples_leaf=1,\n",
    "                                      max_features='sqrt',\n",
    "                                      max_depth=50)\n",
    "\n",
    "entrenamiento_modelo_sobremuestreo(forest_bucle, x_ent_bucle, y_ent_bucle, x_val, y_val)"
   ]
  },
  {
   "cell_type": "code",
   "execution_count": 85,
   "metadata": {},
   "outputs": [
    {
     "name": "stdout",
     "output_type": "stream",
     "text": [
      "\n",
      "Modelo: RandomForestClassifier\n",
      "AUC: 0.8291066324447297\n",
      "\n",
      "Classification report:\n",
      "              precision    recall  f1-score   support\n",
      "\n",
      "           0       0.82      0.86      0.84       651\n",
      "           1       0.67      0.61      0.64       316\n",
      "\n",
      "    accuracy                           0.78       967\n",
      "   macro avg       0.75      0.73      0.74       967\n",
      "weighted avg       0.77      0.78      0.77       967\n",
      "\n"
     ]
    }
   ],
   "source": [
    "forest_class = RandomForestClassifier(random_state=42,\n",
    "                                      n_estimators=200,\n",
    "                                      min_samples_split=10,\n",
    "                                      min_samples_leaf=1,\n",
    "                                      max_features='sqrt',\n",
    "                                      max_depth=50)\n",
    "\n",
    "entrenamiento_classification(forest_class, x_ent, y_ent, x_val, y_val)"
   ]
  },
  {
   "cell_type": "markdown",
   "metadata": {},
   "source": [
    "La métrica F1 del RandomForestClassifier es ligeramente mejor que los dos modelos anteriores por una diferencia mínima, sin embargo, el patrón se repite: el modelo sin sobremuestreo es mejor, con un 77% de casos predichos correctamente. "
   ]
  },
  {
   "cell_type": "code",
   "execution_count": 87,
   "metadata": {},
   "outputs": [
    {
     "name": "stdout",
     "output_type": "stream",
     "text": [
      "Fitting 5 folds for each of 50 candidates, totalling 250 fits\n",
      "[LightGBM] [Warning] Found whitespace in feature_names, replace with underlines\n",
      "[LightGBM] [Info] Number of positive: 1888, number of negative: 1957\n",
      "[LightGBM] [Info] Auto-choosing row-wise multi-threading, the overhead of testing was 0.032741 seconds.\n",
      "You can set `force_row_wise=true` to remove the overhead.\n",
      "And if memory is not enough, you can set `force_col_wise=true`.\n",
      "[LightGBM] [Info] Total Bins 535\n",
      "[LightGBM] [Info] Number of data points in the train set: 3845, number of used features: 12\n",
      "[LightGBM] [Info] [binary:BoostFromScore]: pavg=0.491027 -> initscore=-0.035895\n",
      "[LightGBM] [Info] Start training from score -0.035895\n",
      "[LightGBM] [Warning] No further splits with positive gain, best gain: -inf\n",
      "[LightGBM] [Warning] No further splits with positive gain, best gain: -inf\n",
      "[LightGBM] [Warning] No further splits with positive gain, best gain: -inf\n",
      "[LightGBM] [Warning] No further splits with positive gain, best gain: -inf\n",
      "[LightGBM] [Warning] No further splits with positive gain, best gain: -inf\n",
      "[LightGBM] [Warning] No further splits with positive gain, best gain: -inf\n",
      "[LightGBM] [Warning] No further splits with positive gain, best gain: -inf\n",
      "[LightGBM] [Warning] No further splits with positive gain, best gain: -inf\n",
      "[LightGBM] [Warning] No further splits with positive gain, best gain: -inf\n",
      "[LightGBM] [Warning] No further splits with positive gain, best gain: -inf\n",
      "[LightGBM] [Warning] No further splits with positive gain, best gain: -inf\n",
      "[LightGBM] [Warning] No further splits with positive gain, best gain: -inf\n",
      "[LightGBM] [Warning] No further splits with positive gain, best gain: -inf\n",
      "[LightGBM] [Warning] No further splits with positive gain, best gain: -inf\n",
      "[LightGBM] [Warning] No further splits with positive gain, best gain: -inf\n",
      "[LightGBM] [Warning] No further splits with positive gain, best gain: -inf\n",
      "[LightGBM] [Warning] No further splits with positive gain, best gain: -inf\n",
      "[LightGBM] [Warning] No further splits with positive gain, best gain: -inf\n",
      "[LightGBM] [Warning] No further splits with positive gain, best gain: -inf\n",
      "[LightGBM] [Warning] No further splits with positive gain, best gain: -inf\n",
      "[LightGBM] [Warning] No further splits with positive gain, best gain: -inf\n",
      "[LightGBM] [Warning] No further splits with positive gain, best gain: -inf\n",
      "[LightGBM] [Warning] No further splits with positive gain, best gain: -inf\n",
      "[LightGBM] [Warning] No further splits with positive gain, best gain: -inf\n",
      "[LightGBM] [Warning] No further splits with positive gain, best gain: -inf\n",
      "[LightGBM] [Warning] No further splits with positive gain, best gain: -inf\n",
      "[LightGBM] [Warning] No further splits with positive gain, best gain: -inf\n",
      "[LightGBM] [Warning] No further splits with positive gain, best gain: -inf\n",
      "[LightGBM] [Warning] No further splits with positive gain, best gain: -inf\n",
      "[LightGBM] [Warning] No further splits with positive gain, best gain: -inf\n",
      "[LightGBM] [Warning] No further splits with positive gain, best gain: -inf\n",
      "[LightGBM] [Warning] No further splits with positive gain, best gain: -inf\n",
      "[LightGBM] [Warning] No further splits with positive gain, best gain: -inf\n",
      "[LightGBM] [Warning] No further splits with positive gain, best gain: -inf\n",
      "[LightGBM] [Warning] No further splits with positive gain, best gain: -inf\n",
      "[LightGBM] [Warning] No further splits with positive gain, best gain: -inf\n",
      "[LightGBM] [Warning] No further splits with positive gain, best gain: -inf\n",
      "[LightGBM] [Warning] No further splits with positive gain, best gain: -inf\n",
      "[LightGBM] [Warning] No further splits with positive gain, best gain: -inf\n",
      "[LightGBM] [Warning] No further splits with positive gain, best gain: -inf\n",
      "[LightGBM] [Warning] No further splits with positive gain, best gain: -inf\n",
      "[LightGBM] [Warning] No further splits with positive gain, best gain: -inf\n",
      "[LightGBM] [Warning] No further splits with positive gain, best gain: -inf\n",
      "[LightGBM] [Warning] No further splits with positive gain, best gain: -inf\n",
      "[LightGBM] [Warning] No further splits with positive gain, best gain: -inf\n",
      "[LightGBM] [Warning] No further splits with positive gain, best gain: -inf\n",
      "[LightGBM] [Warning] No further splits with positive gain, best gain: -inf\n",
      "[LightGBM] [Warning] No further splits with positive gain, best gain: -inf\n",
      "[LightGBM] [Warning] No further splits with positive gain, best gain: -inf\n",
      "[LightGBM] [Warning] No further splits with positive gain, best gain: -inf\n",
      "[LightGBM] [Warning] No further splits with positive gain, best gain: -inf\n",
      "[LightGBM] [Warning] No further splits with positive gain, best gain: -inf\n",
      "[LightGBM] [Warning] No further splits with positive gain, best gain: -inf\n",
      "[LightGBM] [Warning] No further splits with positive gain, best gain: -inf\n",
      "[LightGBM] [Warning] No further splits with positive gain, best gain: -inf\n",
      "[LightGBM] [Warning] No further splits with positive gain, best gain: -inf\n",
      "[LightGBM] [Warning] No further splits with positive gain, best gain: -inf\n",
      "[LightGBM] [Warning] No further splits with positive gain, best gain: -inf\n",
      "[LightGBM] [Warning] No further splits with positive gain, best gain: -inf\n",
      "[LightGBM] [Warning] No further splits with positive gain, best gain: -inf\n",
      "[LightGBM] [Warning] No further splits with positive gain, best gain: -inf\n",
      "[LightGBM] [Warning] No further splits with positive gain, best gain: -inf\n",
      "[LightGBM] [Warning] No further splits with positive gain, best gain: -inf\n",
      "[LightGBM] [Warning] No further splits with positive gain, best gain: -inf\n",
      "[LightGBM] [Warning] No further splits with positive gain, best gain: -inf\n",
      "[LightGBM] [Warning] No further splits with positive gain, best gain: -inf\n",
      "[LightGBM] [Warning] No further splits with positive gain, best gain: -inf\n",
      "[LightGBM] [Warning] No further splits with positive gain, best gain: -inf\n",
      "[LightGBM] [Warning] No further splits with positive gain, best gain: -inf\n",
      "[LightGBM] [Warning] No further splits with positive gain, best gain: -inf\n",
      "[LightGBM] [Warning] No further splits with positive gain, best gain: -inf\n",
      "[LightGBM] [Warning] No further splits with positive gain, best gain: -inf\n",
      "[LightGBM] [Warning] No further splits with positive gain, best gain: -inf\n",
      "[LightGBM] [Warning] No further splits with positive gain, best gain: -inf\n",
      "[LightGBM] [Warning] No further splits with positive gain, best gain: -inf\n",
      "[LightGBM] [Warning] No further splits with positive gain, best gain: -inf\n",
      "[LightGBM] [Warning] No further splits with positive gain, best gain: -inf\n",
      "[LightGBM] [Warning] No further splits with positive gain, best gain: -inf\n",
      "[LightGBM] [Warning] No further splits with positive gain, best gain: -inf\n",
      "[LightGBM] [Warning] No further splits with positive gain, best gain: -inf\n",
      "[LightGBM] [Warning] No further splits with positive gain, best gain: -inf\n",
      "[LightGBM] [Warning] No further splits with positive gain, best gain: -inf\n",
      "[LightGBM] [Warning] No further splits with positive gain, best gain: -inf\n",
      "[LightGBM] [Warning] No further splits with positive gain, best gain: -inf\n",
      "[LightGBM] [Warning] No further splits with positive gain, best gain: -inf\n",
      "[LightGBM] [Warning] No further splits with positive gain, best gain: -inf\n",
      "[LightGBM] [Warning] No further splits with positive gain, best gain: -inf\n",
      "[LightGBM] [Warning] No further splits with positive gain, best gain: -inf\n",
      "[LightGBM] [Warning] No further splits with positive gain, best gain: -inf\n",
      "[LightGBM] [Warning] No further splits with positive gain, best gain: -inf\n",
      "[LightGBM] [Warning] No further splits with positive gain, best gain: -inf\n",
      "[LightGBM] [Warning] No further splits with positive gain, best gain: -inf\n",
      "[LightGBM] [Warning] No further splits with positive gain, best gain: -inf\n",
      "[LightGBM] [Warning] No further splits with positive gain, best gain: -inf\n",
      "[LightGBM] [Warning] No further splits with positive gain, best gain: -inf\n",
      "[LightGBM] [Warning] No further splits with positive gain, best gain: -inf\n",
      "[LightGBM] [Warning] No further splits with positive gain, best gain: -inf\n",
      "[LightGBM] [Warning] No further splits with positive gain, best gain: -inf\n",
      "[LightGBM] [Warning] No further splits with positive gain, best gain: -inf\n",
      "[LightGBM] [Warning] No further splits with positive gain, best gain: -inf\n",
      "[LightGBM] [Warning] No further splits with positive gain, best gain: -inf\n",
      "[LightGBM] [Warning] No further splits with positive gain, best gain: -inf\n",
      "Mejores hiperparámetros para LGBM bucle: {'subsample': 0.2, 'reg_lambda': 1.0, 'reg_alpha': 0.5, 'num_leaves': 127, 'n_estimators': 200, 'min_child_samples': 5, 'max_depth': -1, 'learning_rate': 0.2, 'colsample_bytree': 0.6}\n"
     ]
    }
   ],
   "source": [
    "lgbm = LGBMClassifier(random_state=42)\n",
    "\n",
    "parámetros_light = {\n",
    "    'n_estimators': [100, 200, 300, 500],\n",
    "    'learning_rate': [0.01, 0.05, 0.1, 0.2],\n",
    "    'max_depth': [3, 5, 10, 20, -1],\n",
    "    'num_leaves': [15, 31, 63, 127, 200, 255],\n",
    "    'min_child_samples': [5, 10, 20, 30, 50],\n",
    "    'subsample': [0.2, 0.4, 0.6, 0.8, 1.0],\n",
    "    'colsample_bytree': [0.2, 0.4, 0.6, 0.8, 1.0],\n",
    "    'reg_alpha' : [0.1, 0.5, 1.0],\n",
    "    'reg_lambda' : [0.1, 0.5, 1.0]\n",
    "}\n",
    "\n",
    "search_lgbm = RandomizedSearchCV(\n",
    "    estimator=lgbm,\n",
    "    param_distributions=parámetros_light,\n",
    "    n_iter=50,\n",
    "    cv=5,\n",
    "    random_state=42,\n",
    "    n_jobs=-1,\n",
    "    verbose=1\n",
    ")\n",
    "\n",
    "search_lgbm.fit(x_ent_bucle, y_ent_bucle)\n",
    "\n",
    "print('Mejores hiperparámetros para LGBM bucle:', search_lgbm.best_params_)"
   ]
  },
  {
   "cell_type": "code",
   "execution_count": 88,
   "metadata": {},
   "outputs": [
    {
     "name": "stdout",
     "output_type": "stream",
     "text": [
      "Fitting 5 folds for each of 50 candidates, totalling 250 fits\n",
      "[LightGBM] [Warning] Found whitespace in feature_names, replace with underlines\n",
      "[LightGBM] [Info] Number of positive: 1888, number of negative: 1957\n",
      "[LightGBM] [Info] Auto-choosing row-wise multi-threading, the overhead of testing was 0.000603 seconds.\n",
      "You can set `force_row_wise=true` to remove the overhead.\n",
      "And if memory is not enough, you can set `force_col_wise=true`.\n",
      "[LightGBM] [Info] Total Bins 535\n",
      "[LightGBM] [Info] Number of data points in the train set: 3845, number of used features: 12\n",
      "[LightGBM] [Info] [binary:BoostFromScore]: pavg=0.491027 -> initscore=-0.035895\n",
      "[LightGBM] [Info] Start training from score -0.035895\n",
      "[LightGBM] [Warning] No further splits with positive gain, best gain: -inf\n",
      "[LightGBM] [Warning] No further splits with positive gain, best gain: -inf\n",
      "[LightGBM] [Warning] No further splits with positive gain, best gain: -inf\n",
      "[LightGBM] [Warning] No further splits with positive gain, best gain: -inf\n",
      "[LightGBM] [Warning] No further splits with positive gain, best gain: -inf\n",
      "[LightGBM] [Warning] No further splits with positive gain, best gain: -inf\n",
      "[LightGBM] [Warning] No further splits with positive gain, best gain: -inf\n",
      "[LightGBM] [Warning] No further splits with positive gain, best gain: -inf\n",
      "[LightGBM] [Warning] No further splits with positive gain, best gain: -inf\n",
      "Mejores hiperparámetros para classification: {'subsample': 0.4, 'num_leaves': 63, 'n_estimators': 300, 'min_child_samples': 20, 'max_depth': 20, 'learning_rate': 0.2}\n"
     ]
    }
   ],
   "source": [
    "lgbm_class = LGBMClassifier(random_state=42)\n",
    "\n",
    "parámetros_light = {\n",
    "    'n_estimators': [100, 200, 300, 500],\n",
    "    'learning_rate': [0.01, 0.05, 0.1, 0.2],\n",
    "    'max_depth': [3, 5, 10, 20, -1],\n",
    "    'num_leaves': [15, 31, 63, 127, 200, 255],\n",
    "    'min_child_samples': [5, 10, 20, 30, 50],\n",
    "    'subsample': [0.2, 0.4, 0.6, 0.8, 1.0],\n",
    "}\n",
    "\n",
    "lgbm_c = RandomizedSearchCV(\n",
    "    estimator=lgbm_class,\n",
    "    param_distributions=parámetros_light,\n",
    "    n_iter=50,\n",
    "    cv=5,\n",
    "    random_state=42,\n",
    "    n_jobs=-1,\n",
    "    verbose=1\n",
    ")\n",
    "\n",
    "lgbm_c.fit(x_ent_bucle, y_ent_bucle)\n",
    "\n",
    "print('Mejores hiperparámetros para classification:', lgbm_c.best_params_)"
   ]
  },
  {
   "cell_type": "code",
   "execution_count": 89,
   "metadata": {},
   "outputs": [
    {
     "name": "stdout",
     "output_type": "stream",
     "text": [
      "[LightGBM] [Warning] Found whitespace in feature_names, replace with underlines\n",
      "[LightGBM] [Info] Number of positive: 1888, number of negative: 1957\n",
      "[LightGBM] [Info] Auto-choosing row-wise multi-threading, the overhead of testing was 0.000782 seconds.\n",
      "You can set `force_row_wise=true` to remove the overhead.\n",
      "And if memory is not enough, you can set `force_col_wise=true`.\n",
      "[LightGBM] [Info] Total Bins 535\n",
      "[LightGBM] [Info] Number of data points in the train set: 3845, number of used features: 12\n",
      "[LightGBM] [Info] [binary:BoostFromScore]: pavg=0.491027 -> initscore=-0.035895\n",
      "[LightGBM] [Info] Start training from score -0.035895\n",
      "[LightGBM] [Warning] No further splits with positive gain, best gain: -inf\n",
      "[LightGBM] [Warning] No further splits with positive gain, best gain: -inf\n",
      "Modelo: LGBMClassifier\n",
      "AUC: 0.7842316591806179\n",
      "Precisión: 0.5718654434250765\n",
      "Recall: 0.5917721518987342\n",
      "F1: 0.5816485225505443\n"
     ]
    }
   ],
   "source": [
    "lgbm = LGBMClassifier(random_state=42,\n",
    "                            subsample=0.8,\n",
    "                            num_leaves=255,\n",
    "                            n_estimators=100,\n",
    "                            min_child_samples=10,\n",
    "                            max_depth=-10,\n",
    "                            learning_rate=0.2)\n",
    "\n",
    "entrenamiento_modelo_sobremuestreo(lgbm, x_ent_bucle, y_ent_bucle, x_val, y_val)"
   ]
  },
  {
   "cell_type": "code",
   "execution_count": 90,
   "metadata": {},
   "outputs": [
    {
     "name": "stdout",
     "output_type": "stream",
     "text": [
      "[LightGBM] [Warning] Found whitespace in feature_names, replace with underlines\n",
      "[LightGBM] [Info] Number of positive: 944, number of negative: 1957\n",
      "[LightGBM] [Info] Auto-choosing row-wise multi-threading, the overhead of testing was 0.000387 seconds.\n",
      "You can set `force_row_wise=true` to remove the overhead.\n",
      "And if memory is not enough, you can set `force_col_wise=true`.\n",
      "[LightGBM] [Info] Total Bins 535\n",
      "[LightGBM] [Info] Number of data points in the train set: 2901, number of used features: 12\n",
      "[LightGBM] [Info] [binary:BoostFromScore]: pavg=0.325405 -> initscore=-0.729042\n",
      "[LightGBM] [Info] Start training from score -0.729042\n",
      "[LightGBM] [Warning] No further splits with positive gain, best gain: -inf\n",
      "[LightGBM] [Warning] No further splits with positive gain, best gain: -inf\n",
      "[LightGBM] [Warning] No further splits with positive gain, best gain: -inf\n",
      "[LightGBM] [Warning] No further splits with positive gain, best gain: -inf\n",
      "[LightGBM] [Warning] No further splits with positive gain, best gain: -inf\n",
      "[LightGBM] [Warning] No further splits with positive gain, best gain: -inf\n",
      "[LightGBM] [Warning] No further splits with positive gain, best gain: -inf\n",
      "[LightGBM] [Warning] No further splits with positive gain, best gain: -inf\n",
      "[LightGBM] [Warning] No further splits with positive gain, best gain: -inf\n",
      "[LightGBM] [Warning] No further splits with positive gain, best gain: -inf\n",
      "[LightGBM] [Warning] No further splits with positive gain, best gain: -inf\n",
      "[LightGBM] [Warning] No further splits with positive gain, best gain: -inf\n",
      "[LightGBM] [Warning] No further splits with positive gain, best gain: -inf\n",
      "[LightGBM] [Warning] No further splits with positive gain, best gain: -inf\n",
      "[LightGBM] [Warning] No further splits with positive gain, best gain: -inf\n",
      "[LightGBM] [Warning] No further splits with positive gain, best gain: -inf\n",
      "[LightGBM] [Warning] No further splits with positive gain, best gain: -inf\n",
      "[LightGBM] [Warning] No further splits with positive gain, best gain: -inf\n",
      "[LightGBM] [Warning] No further splits with positive gain, best gain: -inf\n",
      "[LightGBM] [Warning] No further splits with positive gain, best gain: -inf\n",
      "[LightGBM] [Warning] No further splits with positive gain, best gain: -inf\n",
      "[LightGBM] [Warning] No further splits with positive gain, best gain: -inf\n",
      "[LightGBM] [Warning] No further splits with positive gain, best gain: -inf\n",
      "[LightGBM] [Warning] No further splits with positive gain, best gain: -inf\n",
      "[LightGBM] [Warning] No further splits with positive gain, best gain: -inf\n",
      "[LightGBM] [Warning] No further splits with positive gain, best gain: -inf\n",
      "[LightGBM] [Warning] No further splits with positive gain, best gain: -inf\n",
      "[LightGBM] [Warning] No further splits with positive gain, best gain: -inf\n",
      "[LightGBM] [Warning] No further splits with positive gain, best gain: -inf\n",
      "[LightGBM] [Warning] No further splits with positive gain, best gain: -inf\n",
      "[LightGBM] [Warning] No further splits with positive gain, best gain: -inf\n",
      "[LightGBM] [Warning] No further splits with positive gain, best gain: -inf\n",
      "[LightGBM] [Warning] No further splits with positive gain, best gain: -inf\n",
      "[LightGBM] [Warning] No further splits with positive gain, best gain: -inf\n",
      "[LightGBM] [Warning] No further splits with positive gain, best gain: -inf\n",
      "[LightGBM] [Warning] No further splits with positive gain, best gain: -inf\n",
      "[LightGBM] [Warning] No further splits with positive gain, best gain: -inf\n",
      "[LightGBM] [Warning] No further splits with positive gain, best gain: -inf\n",
      "[LightGBM] [Warning] No further splits with positive gain, best gain: -inf\n",
      "[LightGBM] [Warning] No further splits with positive gain, best gain: -inf\n",
      "[LightGBM] [Warning] No further splits with positive gain, best gain: -inf\n",
      "[LightGBM] [Warning] No further splits with positive gain, best gain: -inf\n",
      "[LightGBM] [Warning] No further splits with positive gain, best gain: -inf\n",
      "[LightGBM] [Warning] No further splits with positive gain, best gain: -inf\n",
      "[LightGBM] [Warning] No further splits with positive gain, best gain: -inf\n",
      "[LightGBM] [Warning] No further splits with positive gain, best gain: -inf\n",
      "[LightGBM] [Warning] No further splits with positive gain, best gain: -inf\n",
      "[LightGBM] [Warning] No further splits with positive gain, best gain: -inf\n",
      "[LightGBM] [Warning] No further splits with positive gain, best gain: -inf\n",
      "[LightGBM] [Warning] No further splits with positive gain, best gain: -inf\n",
      "[LightGBM] [Warning] No further splits with positive gain, best gain: -inf\n",
      "[LightGBM] [Warning] No further splits with positive gain, best gain: -inf\n",
      "[LightGBM] [Warning] No further splits with positive gain, best gain: -inf\n",
      "[LightGBM] [Warning] No further splits with positive gain, best gain: -inf\n",
      "[LightGBM] [Warning] No further splits with positive gain, best gain: -inf\n",
      "[LightGBM] [Warning] No further splits with positive gain, best gain: -inf\n",
      "[LightGBM] [Warning] No further splits with positive gain, best gain: -inf\n",
      "[LightGBM] [Warning] No further splits with positive gain, best gain: -inf\n",
      "[LightGBM] [Warning] No further splits with positive gain, best gain: -inf\n",
      "[LightGBM] [Warning] No further splits with positive gain, best gain: -inf\n",
      "[LightGBM] [Warning] No further splits with positive gain, best gain: -inf\n",
      "[LightGBM] [Warning] No further splits with positive gain, best gain: -inf\n",
      "[LightGBM] [Warning] No further splits with positive gain, best gain: -inf\n",
      "[LightGBM] [Warning] No further splits with positive gain, best gain: -inf\n",
      "[LightGBM] [Warning] No further splits with positive gain, best gain: -inf\n",
      "[LightGBM] [Warning] No further splits with positive gain, best gain: -inf\n",
      "[LightGBM] [Warning] No further splits with positive gain, best gain: -inf\n",
      "[LightGBM] [Warning] No further splits with positive gain, best gain: -inf\n",
      "[LightGBM] [Warning] No further splits with positive gain, best gain: -inf\n",
      "[LightGBM] [Warning] No further splits with positive gain, best gain: -inf\n",
      "[LightGBM] [Warning] No further splits with positive gain, best gain: -inf\n",
      "[LightGBM] [Warning] No further splits with positive gain, best gain: -inf\n",
      "[LightGBM] [Warning] No further splits with positive gain, best gain: -inf\n",
      "[LightGBM] [Warning] No further splits with positive gain, best gain: -inf\n",
      "[LightGBM] [Warning] No further splits with positive gain, best gain: -inf\n",
      "[LightGBM] [Warning] No further splits with positive gain, best gain: -inf\n",
      "[LightGBM] [Warning] No further splits with positive gain, best gain: -inf\n",
      "[LightGBM] [Warning] No further splits with positive gain, best gain: -inf\n",
      "[LightGBM] [Warning] No further splits with positive gain, best gain: -inf\n",
      "[LightGBM] [Warning] No further splits with positive gain, best gain: -inf\n",
      "[LightGBM] [Warning] No further splits with positive gain, best gain: -inf\n",
      "[LightGBM] [Warning] No further splits with positive gain, best gain: -inf\n",
      "[LightGBM] [Warning] No further splits with positive gain, best gain: -inf\n",
      "[LightGBM] [Warning] No further splits with positive gain, best gain: -inf\n",
      "[LightGBM] [Warning] No further splits with positive gain, best gain: -inf\n",
      "[LightGBM] [Warning] No further splits with positive gain, best gain: -inf\n",
      "[LightGBM] [Warning] No further splits with positive gain, best gain: -inf\n",
      "[LightGBM] [Warning] No further splits with positive gain, best gain: -inf\n",
      "[LightGBM] [Warning] No further splits with positive gain, best gain: -inf\n",
      "[LightGBM] [Warning] No further splits with positive gain, best gain: -inf\n",
      "[LightGBM] [Warning] No further splits with positive gain, best gain: -inf\n",
      "[LightGBM] [Warning] No further splits with positive gain, best gain: -inf\n",
      "[LightGBM] [Warning] No further splits with positive gain, best gain: -inf\n",
      "[LightGBM] [Warning] No further splits with positive gain, best gain: -inf\n",
      "[LightGBM] [Warning] No further splits with positive gain, best gain: -inf\n",
      "[LightGBM] [Warning] No further splits with positive gain, best gain: -inf\n",
      "[LightGBM] [Warning] No further splits with positive gain, best gain: -inf\n",
      "[LightGBM] [Warning] No further splits with positive gain, best gain: -inf\n",
      "[LightGBM] [Warning] No further splits with positive gain, best gain: -inf\n",
      "[LightGBM] [Warning] No further splits with positive gain, best gain: -inf\n",
      "\n",
      "Modelo: LGBMClassifier\n",
      "AUC: 0.7963089890917576\n",
      "\n",
      "Classification report:\n",
      "              precision    recall  f1-score   support\n",
      "\n",
      "           0       0.81      0.80      0.81       651\n",
      "           1       0.60      0.62      0.61       316\n",
      "\n",
      "    accuracy                           0.74       967\n",
      "   macro avg       0.71      0.71      0.71       967\n",
      "weighted avg       0.74      0.74      0.74       967\n",
      "\n"
     ]
    }
   ],
   "source": [
    "lgbm_class = LGBMClassifier(random_state=42,\n",
    "                            subsample=0.8,\n",
    "                            num_leaves=200,\n",
    "                            n_estimators=100,\n",
    "                            min_child_samples=30,\n",
    "                            max_depth=-10,\n",
    "                            learning_rate=0.2)\n",
    "\n",
    "entrenamiento_classification(lgbm_class, x_ent, y_ent, x_val, y_val)"
   ]
  },
  {
   "cell_type": "markdown",
   "metadata": {},
   "source": [
    "El caso de LGBMClassifier tiene un retroceso en la métrica F1 en comparación con los otros modelos, resulta ser la menos eficiente con un 74%.   \n",
    "\n",
    "\n",
    "Todos los modelos tuvieron un mejor rendimiento en cuanto a F1 con los datos sin sobremuestreo. Esto se debió, probablemente, a que el sobremuestreo no fue suficiente para el buen entrenamiento de los modelos, o quizá que no era necesario dado que el desvalance no era tan marcado."
   ]
  },
  {
   "cell_type": "markdown",
   "metadata": {},
   "source": [
    "### Mejor modelo    \n",
    "El mejor modelo sería, por una mínima diferencia, el RandomForestClassifier, por lo que ahora se procede a usarlo con el segmento de prueba y con datos sin sobremuestreo. Se usará DecisionTreeClassifier sólo como comparativa pues fue el segundo mejor modelo. "
   ]
  },
  {
   "cell_type": "code",
   "execution_count": 93,
   "metadata": {},
   "outputs": [
    {
     "name": "stdout",
     "output_type": "stream",
     "text": [
      "\n",
      "Modelo: RandomForestClassifier\n",
      "AUC: 0.8299508053941789\n",
      "\n",
      "Classification report:\n",
      "              precision    recall  f1-score   support\n",
      "\n",
      "           0       0.80      0.86      0.83       641\n",
      "           1       0.68      0.58      0.63       326\n",
      "\n",
      "    accuracy                           0.77       967\n",
      "   macro avg       0.74      0.72      0.73       967\n",
      "weighted avg       0.76      0.77      0.76       967\n",
      "\n"
     ]
    }
   ],
   "source": [
    "forest_final = RandomForestClassifier(random_state=42,\n",
    "                                      n_estimators=200,\n",
    "                                      min_samples_split=10,\n",
    "                                      min_samples_leaf=1,\n",
    "                                      max_features='sqrt',\n",
    "                                      max_depth=50)\n",
    "\n",
    "entrenamiento_classification(forest_final, x_ent, y_ent, x_test, y_test)"
   ]
  },
  {
   "cell_type": "code",
   "execution_count": 94,
   "metadata": {},
   "outputs": [
    {
     "name": "stdout",
     "output_type": "stream",
     "text": [
      "\n",
      "Modelo: DecisionTreeClassifier\n",
      "AUC: 0.818216839103012\n",
      "\n",
      "Classification report:\n",
      "              precision    recall  f1-score   support\n",
      "\n",
      "           0       0.77      0.90      0.83       641\n",
      "           1       0.71      0.47      0.56       326\n",
      "\n",
      "    accuracy                           0.75       967\n",
      "   macro avg       0.74      0.68      0.70       967\n",
      "weighted avg       0.75      0.75      0.74       967\n",
      "\n"
     ]
    }
   ],
   "source": [
    "tree_final = DecisionTreeClassifier(random_state=42, min_samples_split=5,\n",
    "                                        min_samples_leaf=5,\n",
    "                                        max_leaf_nodes=50,\n",
    "                                       max_depth=5)\n",
    "\n",
    "entrenamiento_classification(tree_final, x_ent, y_ent, x_test, y_test)"
   ]
  },
  {
   "cell_type": "markdown",
   "metadata": {},
   "source": [
    "## Mejor modelo    \n",
    "El mejor modelo para los fines del análisis, ha sido el de RandomForestClassifier ya que sus métricas son las más altas.     \n",
    "- Muestra un AUC de 82.9%, es su porcentaje de distinción de clases.\n",
    "- La precisión de predición de valores positivos es del 76%.\n",
    "- El recall, los positivos reales detectados, es de 77%.\n",
    "- Para finalizar, el F1 e de 76%"
   ]
  },
  {
   "cell_type": "markdown",
   "metadata": {},
   "source": [
    "# Informe final"
   ]
  },
  {
   "cell_type": "markdown",
   "metadata": {},
   "source": [
    "### Objetivo\n",
    "\n",
    "El objetivo de este análisis era encontrar el modelo ideal que permitiera saber a la empresa Telecom qué clientes llegarían a cancelar su servicio con base en la data proporcionada."
   ]
  },
  {
   "cell_type": "markdown",
   "metadata": {},
   "source": [
    "Para obtener el mejor modelo que diera solución a la solicitud de Telecom, se siguieron los siguientes pasos:\n",
    "\n",
    "### Análisis y revisión de datos    \n",
    "Con base en los dataframes que la empresa otorgó para el estudio, se eligieron aquellos que serían de utilidad para el análisis y se dejaron fuera aquellos (particularmente, aquél de datos personales como género, edad, etc.) que no.\n",
    "\n",
    "### Preprocesamiento de datos    \n",
    "Se analizaron los datos duplicados, vacíos y aquellos que eran atípicos. Asimismo, se eligieron los datos adecuados para el análisis, se dejaron fuera aquellos que no proporcionaban datos útiles, y se creó un dataframe único con datos unificados y todas aquellas variables útiles para el estudio.\n",
    "\n",
    "### Reducción de datos por unión\n",
    "El dataframe con los datos concernientes a los contratos tenía poco más de 7,000 registros, pero el dataframe final fue de 4,835, ya que al realizar el merge, se conservaron únicamente aquellos clientes cuyos datos se repetían en todos los dataframes relevantes.\n",
    "\n",
    "### Clientes atípicos\n",
    "Se encontró que los clientes atípicos (4.47% del total) tenían en promedio 4.38 servicios contratados, frente a los 1.78 de los no atípicos. Por lo tanto, se decidió mantener los datos atípicos ya que estos contenían información importante respecto a las posibles condiciones en las que los clientes deciden cancelar su plan. Había una relación directa entre la cantidad de servicios contratados y los clientes que cancelaron.   \n",
    "\n",
    "La principal dificultad giró en torno a qué hacer con los datos atípicos, sin embargo, se decidió conservarlos ya que otorgan información valiosa en cuanto a los motivos por los que los clientes podrían cancelar. \n",
    "\n",
    "### Prueba de cordura    \n",
    "Se llevó a cabo una prueba de cordura para comparar los modelos con una línea base (regresión lineal).\n",
    "\n",
    "### Clasificación    \n",
    "Se usaron modelos de clasificación ya que el objetivo era predecir una variable binaria: si el cliente canceló o no. Se utilizaron métricas adecuadas como precision, recall, f1-score y AUC, y se compararon los modelos con y sin sobremuestreo, ya que existía un desbalance leve en las clases.\n",
    "\n",
    "### Sobremuestreo\n",
    "Otra dificultad observada fue el desbalance de clases. Aunque no era extremo, se decidió comparar modelos entrenados con y sin sobremuestreo. Sin embargo, los modelos con sobremuestreo demostraron sobreentrenamiento, ya que obtenían métricas perfectas en el conjunto de validación, lo cual los hacía poco confiables."
   ]
  },
  {
   "cell_type": "markdown",
   "metadata": {},
   "source": [
    "### Comparativa de modelos (sin sobremuestreo)\n",
    "\n",
    "| Modelo                 | AUC   | Precisión (weighted) | Recall (weighted) | F1-score (weighted) |\n",
    "|------------------------|-------|-----------------------|--------------------|----------------------|\n",
    "| LogisticRegression     | 0.78  | 0.75                  | 0.75               | 0.75                 |\n",
    "| RandomForestClassifier | 0.82  | 0.76                  | 0.76               | 0.76                 |\n",
    "| DecisionTreeClassifier | 0.74  | 0.71                  | 0.71               | 0.71                 |\n",
    "| KNeighborsClassifier   | 0.73  | 0.72                  | 0.72               | 0.72                 |\n",
    "| SVC                    | 0.75  | 0.72                  | 0.72               | 0.72                 |\n",
    "| GradientBoosting       | 0.79  | 0.74                  | 0.74               | 0.74                 |\n"
   ]
  },
  {
   "cell_type": "markdown",
   "metadata": {},
   "source": [
    "Nota: Las métricas corresponden a los valores ponderados (weighted average) en el conjunto de validación.\n",
    "\n",
    "### Conclusión    \n",
    "El mejor modelo fue RandomForestClassifier, con un F1-score de 0.76 sin sobremuestreo. Este modelo es capaz de predecir correctamente si un cliente cancelará su contrato en el 76% de los casos, balanceando adecuadamente precisión y sensibilidad.\n",
    "\n",
    "Se recomienda actualizar el modelo con nueva data, especialmente aquella relacionada con promociones o paquetes ofrecidos a clientes con alto riesgo de cancelación, para evaluar su impacto.\n",
    "\n",
    "Una posible estrategia sería ofrecer paquetes agrupados de servicios en lugar de permitir la selección aleatoria, lo que podría brindar una experiencia más personalizada y fomentar la permanencia del cliente.\n",
    "\n",
    "Los modelos con sobremuestreo no fueron considerados viables debido al sobreajuste evidente que presentaron."
   ]
  }
 ],
 "metadata": {
  "kernelspec": {
   "display_name": "Python 3 (ipykernel)",
   "language": "python",
   "name": "python3"
  },
  "language_info": {
   "codemirror_mode": {
    "name": "ipython",
    "version": 3
   },
   "file_extension": ".py",
   "mimetype": "text/x-python",
   "name": "python",
   "nbconvert_exporter": "python",
   "pygments_lexer": "ipython3",
   "version": "3.12.7"
  }
 },
 "nbformat": 4,
 "nbformat_minor": 4
}
